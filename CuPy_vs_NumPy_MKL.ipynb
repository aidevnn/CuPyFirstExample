{
  "nbformat": 4,
  "nbformat_minor": 0,
  "metadata": {
    "colab": {
      "name": "CuPy_vs_NumPy-MKL.ipynb",
      "version": "0.3.2",
      "provenance": [],
      "collapsed_sections": [],
      "include_colab_link": true
    },
    "kernelspec": {
      "name": "python3",
      "display_name": "Python 3"
    },
    "accelerator": "GPU"
  },
  "cells": [
    {
      "cell_type": "markdown",
      "metadata": {
        "id": "view-in-github",
        "colab_type": "text"
      },
      "source": [
        "<a href=\"https://colab.research.google.com/github/aidevnn/CuPyFirstExample/blob/master/CuPy_vs_NumPy_MKL.ipynb\" target=\"_parent\"><img src=\"https://colab.research.google.com/assets/colab-badge.svg\" alt=\"Open In Colab\"/></a>"
      ]
    },
    {
      "cell_type": "code",
      "metadata": {
        "id": "BfnTDCtSbAmz",
        "colab_type": "code",
        "colab": {
          "base_uri": "https://localhost:8080/",
          "height": 136
        },
        "outputId": "3d607447-e505-41dc-8140-4585755750ad"
      },
      "source": [
        "%run sgemm.py --gpu 0 --m 30 --n 40 --k 20"
      ],
      "execution_count": 10,
      "outputs": [
        {
          "output_type": "stream",
          "text": [
            "m=30 n=40 k=20\n",
            "start benchmarking\n",
            "\n",
            "=============================Result===============================\n",
            "mklBLAS             time 0.0053311999887228016 ms\n",
            "hand written kernel time 0.1417279988527298 ms\n",
            "cuBLAS              time 0.03205120004713535 ms\n"
          ],
          "name": "stdout"
        }
      ]
    },
    {
      "cell_type": "code",
      "metadata": {
        "id": "bJ3t5Izcb7-W",
        "colab_type": "code",
        "colab": {
          "base_uri": "https://localhost:8080/",
          "height": 136
        },
        "outputId": "c88b39f5-babd-4655-f07a-6b5546d56e64"
      },
      "source": [
        "%run sgemm.py --gpu 0 --m 3840 --n 5120 --k 2560"
      ],
      "execution_count": 11,
      "outputs": [
        {
          "output_type": "stream",
          "text": [
            "m=3840 n=5120 k=2560\n",
            "start benchmarking\n",
            "\n",
            "=============================Result===============================\n",
            "mklBLAS             time 1416.2935302734375 ms\n",
            "hand written kernel time 54.31614608764649 ms\n",
            "cuBLAS              time 22.128262329101563 ms\n"
          ],
          "name": "stdout"
        }
      ]
    },
    {
      "cell_type": "code",
      "metadata": {
        "id": "UXV0QnP_cI7Z",
        "colab_type": "code",
        "colab": {}
      },
      "source": [
        ""
      ],
      "execution_count": 0,
      "outputs": []
    }
  ]
}