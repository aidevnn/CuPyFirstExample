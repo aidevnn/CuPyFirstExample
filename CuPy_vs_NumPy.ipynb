{
  "nbformat": 4,
  "nbformat_minor": 0,
  "metadata": {
    "colab": {
      "name": "CuPy_vs_NumPy.ipynb",
      "version": "0.3.2",
      "provenance": [],
      "collapsed_sections": []
    },
    "kernelspec": {
      "name": "python3",
      "display_name": "Python 3"
    },
    "accelerator": "GPU"
  },
  "cells": [
    {
      "cell_type": "markdown",
      "metadata": {
        "id": "rFjikp-7Q4ch",
        "colab_type": "text"
      },
      "source": [
        "**First step**, sgemm.cu / sgemm.py / utils.py must be imported in Colab Notebook.\n",
        "\n",
        "Then we can run the bench."
      ]
    },
    {
      "cell_type": "code",
      "metadata": {
        "id": "BfnTDCtSbAmz",
        "colab_type": "code",
        "outputId": "73959f22-b4d5-4484-ef17-5d23f0c9dbb0",
        "colab": {
          "base_uri": "https://localhost:8080/",
          "height": 136
        }
      },
      "source": [
        "%run sgemm.py --m 30 --n 40 --k 20"
      ],
      "execution_count": 6,
      "outputs": [
        {
          "output_type": "stream",
          "text": [
            "m=30 n=40 k=20\n",
            "start benchmarking\n",
            "\n",
            "=============================Result===============================\n",
            "BLAS                time 0.012985599972307683 ms\n",
            "hand written kernel time 0.23048320412635803 ms\n",
            "cuBLAS              time 0.03958400040864944 ms\n"
          ],
          "name": "stdout"
        }
      ]
    },
    {
      "cell_type": "code",
      "metadata": {
        "id": "bJ3t5Izcb7-W",
        "colab_type": "code",
        "outputId": "5762ffb4-9928-4da1-eba1-dbe6885c0762",
        "colab": {
          "base_uri": "https://localhost:8080/",
          "height": 136
        }
      },
      "source": [
        "%run sgemm.py --m 3840 --n 5120 --k 2560"
      ],
      "execution_count": 7,
      "outputs": [
        {
          "output_type": "stream",
          "text": [
            "m=3840 n=5120 k=2560\n",
            "start benchmarking\n",
            "\n",
            "=============================Result===============================\n",
            "BLAS                time 1508.7494384765625 ms\n",
            "hand written kernel time 53.29166717529297 ms\n",
            "cuBLAS              time 21.05827178955078 ms\n"
          ],
          "name": "stdout"
        }
      ]
    },
    {
      "cell_type": "code",
      "metadata": {
        "id": "h66SQ42HtO0a",
        "colab_type": "code",
        "colab": {}
      },
      "source": [
        ""
      ],
      "execution_count": 0,
      "outputs": []
    }
  ]
}